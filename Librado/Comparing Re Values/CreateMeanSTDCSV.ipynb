{
 "cells": [
  {
   "cell_type": "code",
   "execution_count": 14,
   "id": "0a9c9468",
   "metadata": {},
   "outputs": [],
   "source": [
    "import os\n",
    "import numpy as np\n",
    "import pandas as pd\n",
    "\n",
    "# Define the path to the directory containing the files\n",
    "folder_path = 'C:\\\\Users\\\\Librado\\\\ANN\\\\baseline\\\\BKM10-tf'\n",
    "\n",
    "# Get a list of all the file paths in the directory\n",
    "files = [f for f in os.listdir(folder_path) if f.startswith(\"bySetCFFs\")]\n",
    "\n",
    "\n",
    "# Read the first file to get the dimensions of the data\n",
    "df = pd.read_csv(files[0])\n",
    "n_rows, n_cols = df.shape\n",
    "\n",
    "# Initialize an array to store the sum of all the data\n",
    "df_sum = np.zeros((n_rows, n_cols))\n",
    "\n",
    "# Loop through all the files and add their data to the sum array\n",
    "for file in files:\n",
    "    df = pd.read_csv(file)\n",
    "    df_sum += df.to_numpy()\n",
    "\n",
    "# Compute the average by dividing the sum by the number of files\n",
    "df_avg = df_sum / len(files)\n",
    "\n",
    "\n",
    "\n",
    "# Convert the arrays to DataFrames\n",
    "df_avg = pd.DataFrame(df_avg)\n",
    "\n",
    "\n",
    "\n",
    "# Output the DataFrame to a CSV file\n",
    "df_avg.to_csv('Mean.csv', index=False)"
   ]
  },
  {
   "cell_type": "code",
   "execution_count": 15,
   "id": "64a8cd1c",
   "metadata": {},
   "outputs": [],
   "source": [
    "import numpy as np\n",
    "import pandas as pd\n",
    "import os\n",
    "\n",
    "folder_path = 'C:\\\\Users\\\\Librado\\\\ANN\\\\baseline\\\\BKM10-tf'\n",
    "\n",
    "# Find all the files in the folder_path that start with \"bySetCFFs\"\n",
    "files = [f for f in os.listdir(folder_path) if f.startswith(\"bySetCFFs\")]\n",
    "\n",
    "# Read the CSV files into a list of DataFrames\n",
    "dfs = [pd.read_csv(os.path.join(folder_path, f), index_col=0) for f in files]\n",
    "\n",
    "# Concatenate the DataFrames along the third dimension\n",
    "array_3d = np.stack([df.values for df in dfs], axis=-1)\n",
    "\n",
    "# Compute the standard deviation along the third dimension\n",
    "array_stdev = np.std(array_3d, axis=-1)\n",
    "\n",
    "# Convert the resulting NumPy array into a DataFrame and set the column and index names\n",
    "df_stdev = pd.DataFrame(array_stdev, columns=dfs[0].columns, index=dfs[0].index)\n",
    "\n",
    "# Write the DataFrame to a CSV file\n",
    "df_stdev.to_csv('STD.csv')"
   ]
  },
  {
   "cell_type": "code",
   "execution_count": null,
   "id": "1ca66bf5",
   "metadata": {},
   "outputs": [],
   "source": []
  }
 ],
 "metadata": {
  "kernelspec": {
   "display_name": "Python 3 (ipykernel)",
   "language": "python",
   "name": "python3"
  },
  "language_info": {
   "codemirror_mode": {
    "name": "ipython",
    "version": 3
   },
   "file_extension": ".py",
   "mimetype": "text/x-python",
   "name": "python",
   "nbconvert_exporter": "python",
   "pygments_lexer": "ipython3",
   "version": "3.9.13"
  }
 },
 "nbformat": 4,
 "nbformat_minor": 5
}
