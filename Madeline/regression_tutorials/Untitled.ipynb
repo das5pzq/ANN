{
 "cells": [
  {
   "cell_type": "code",
   "execution_count": 1,
   "metadata": {},
   "outputs": [],
   "source": [
    "# module load tensorflow 2.9.1\n",
    "\n",
    "import matplotlib.pyplot as plt\n",
    "import numpy as np\n",
    "import pandas as pd\n",
    "import seaborn as sns\n",
    "import tensorflow as tf # Version 2.9.1\n",
    "from tensorflow import keras\n",
    "from tensorflow.keras import layers\n",
    "np.set_printoptions(precision=3, suppress=True)"
   ]
  },
  {
   "cell_type": "code",
   "execution_count": 2,
   "metadata": {},
   "outputs": [
    {
     "data": {
      "text/html": [
       "<div>\n",
       "<style scoped>\n",
       "    .dataframe tbody tr th:only-of-type {\n",
       "        vertical-align: middle;\n",
       "    }\n",
       "\n",
       "    .dataframe tbody tr th {\n",
       "        vertical-align: top;\n",
       "    }\n",
       "\n",
       "    .dataframe thead th {\n",
       "        text-align: right;\n",
       "    }\n",
       "</style>\n",
       "<table border=\"1\" class=\"dataframe\">\n",
       "  <thead>\n",
       "    <tr style=\"text-align: right;\">\n",
       "      <th></th>\n",
       "      <th>Set</th>\n",
       "      <th>index</th>\n",
       "      <th>k</th>\n",
       "      <th>QQ</th>\n",
       "      <th>x_b</th>\n",
       "      <th>t</th>\n",
       "      <th>phi_x</th>\n",
       "      <th>F</th>\n",
       "      <th>sigmaF</th>\n",
       "      <th>F1</th>\n",
       "      <th>F2</th>\n",
       "      <th>ReH_true</th>\n",
       "      <th>ReE_true</th>\n",
       "      <th>ReHTilde_true</th>\n",
       "      <th>c0_true</th>\n",
       "    </tr>\n",
       "  </thead>\n",
       "  <tbody>\n",
       "    <tr>\n",
       "      <th>0</th>\n",
       "      <td>1</td>\n",
       "      <td>0</td>\n",
       "      <td>2.75</td>\n",
       "      <td>1.05443</td>\n",
       "      <td>0.536279</td>\n",
       "      <td>-0.452256</td>\n",
       "      <td>8</td>\n",
       "      <td>0.401680</td>\n",
       "      <td>0.021091</td>\n",
       "      <td>0.439958</td>\n",
       "      <td>0.597371</td>\n",
       "      <td>1.597868</td>\n",
       "      <td>-2.466545</td>\n",
       "      <td>4.900664</td>\n",
       "      <td>0.103349</td>\n",
       "    </tr>\n",
       "    <tr>\n",
       "      <th>1</th>\n",
       "      <td>1</td>\n",
       "      <td>1</td>\n",
       "      <td>2.75</td>\n",
       "      <td>1.05443</td>\n",
       "      <td>0.536279</td>\n",
       "      <td>-0.452256</td>\n",
       "      <td>16</td>\n",
       "      <td>0.355652</td>\n",
       "      <td>0.019283</td>\n",
       "      <td>0.439958</td>\n",
       "      <td>0.597371</td>\n",
       "      <td>1.597868</td>\n",
       "      <td>-2.466545</td>\n",
       "      <td>4.900664</td>\n",
       "      <td>0.103349</td>\n",
       "    </tr>\n",
       "    <tr>\n",
       "      <th>2</th>\n",
       "      <td>1</td>\n",
       "      <td>2</td>\n",
       "      <td>2.75</td>\n",
       "      <td>1.05443</td>\n",
       "      <td>0.536279</td>\n",
       "      <td>-0.452256</td>\n",
       "      <td>24</td>\n",
       "      <td>0.337036</td>\n",
       "      <td>0.016866</td>\n",
       "      <td>0.439958</td>\n",
       "      <td>0.597371</td>\n",
       "      <td>1.597868</td>\n",
       "      <td>-2.466545</td>\n",
       "      <td>4.900664</td>\n",
       "      <td>0.103349</td>\n",
       "    </tr>\n",
       "    <tr>\n",
       "      <th>3</th>\n",
       "      <td>1</td>\n",
       "      <td>3</td>\n",
       "      <td>2.75</td>\n",
       "      <td>1.05443</td>\n",
       "      <td>0.536279</td>\n",
       "      <td>-0.452256</td>\n",
       "      <td>32</td>\n",
       "      <td>0.290727</td>\n",
       "      <td>0.014360</td>\n",
       "      <td>0.439958</td>\n",
       "      <td>0.597371</td>\n",
       "      <td>1.597868</td>\n",
       "      <td>-2.466545</td>\n",
       "      <td>4.900664</td>\n",
       "      <td>0.103349</td>\n",
       "    </tr>\n",
       "    <tr>\n",
       "      <th>4</th>\n",
       "      <td>1</td>\n",
       "      <td>4</td>\n",
       "      <td>2.75</td>\n",
       "      <td>1.05443</td>\n",
       "      <td>0.536279</td>\n",
       "      <td>-0.452256</td>\n",
       "      <td>40</td>\n",
       "      <td>0.229296</td>\n",
       "      <td>0.012102</td>\n",
       "      <td>0.439958</td>\n",
       "      <td>0.597371</td>\n",
       "      <td>1.597868</td>\n",
       "      <td>-2.466545</td>\n",
       "      <td>4.900664</td>\n",
       "      <td>0.103349</td>\n",
       "    </tr>\n",
       "  </tbody>\n",
       "</table>\n",
       "</div>"
      ],
      "text/plain": [
       "   Set  index     k       QQ       x_b         t  phi_x         F    sigmaF  \\\n",
       "0    1      0  2.75  1.05443  0.536279 -0.452256      8  0.401680  0.021091   \n",
       "1    1      1  2.75  1.05443  0.536279 -0.452256     16  0.355652  0.019283   \n",
       "2    1      2  2.75  1.05443  0.536279 -0.452256     24  0.337036  0.016866   \n",
       "3    1      3  2.75  1.05443  0.536279 -0.452256     32  0.290727  0.014360   \n",
       "4    1      4  2.75  1.05443  0.536279 -0.452256     40  0.229296  0.012102   \n",
       "\n",
       "         F1        F2  ReH_true  ReE_true  ReHTilde_true   c0_true  \n",
       "0  0.439958  0.597371  1.597868 -2.466545       4.900664  0.103349  \n",
       "1  0.439958  0.597371  1.597868 -2.466545       4.900664  0.103349  \n",
       "2  0.439958  0.597371  1.597868 -2.466545       4.900664  0.103349  \n",
       "3  0.439958  0.597371  1.597868 -2.466545       4.900664  0.103349  \n",
       "4  0.439958  0.597371  1.597868 -2.466545       4.900664  0.103349  "
      ]
     },
     "execution_count": 2,
     "metadata": {},
     "output_type": "execute_result"
    }
   ],
   "source": [
    "column_names = ['count','Set','index','k','QQ','x_b','t','phi_x','F','sigmaF','F1','F2','ReH_true','ReE_true','ReHTilde_true','c0_true','Formalism']\n",
    "raw_dataset = pd.read_csv('BKM10_pseudodata_generation_from_file.txt', skiprows=1, names=column_names,\n",
    "                          na_values='?', comment='\\t',\n",
    "                          sep=',', skipinitialspace=True)\n",
    "del raw_dataset['count']\n",
    "del raw_dataset['Formalism']\n",
    "dataset = raw_dataset.copy()\n",
    "dataset.head()"
   ]
  },
  {
   "cell_type": "code",
   "execution_count": 3,
   "metadata": {},
   "outputs": [],
   "source": [
    "train_dataset = dataset.sample(frac=0.8, random_state=0)\n",
    "test_dataset = dataset.drop(train_dataset.index)\n",
    "\n",
    "train_features = train_dataset.copy()\n",
    "test_features = test_dataset.copy()\n",
    "\n",
    "train_labels = train_features.pop('F')\n",
    "test_labels = test_features.pop('F')"
   ]
  },
  {
   "cell_type": "markdown",
   "metadata": {},
   "source": [
    "Normalization"
   ]
  },
  {
   "cell_type": "code",
   "execution_count": 4,
   "metadata": {},
   "outputs": [],
   "source": [
    "# train_dataset.describe().transpose()"
   ]
  },
  {
   "cell_type": "code",
   "execution_count": 5,
   "metadata": {},
   "outputs": [],
   "source": [
    "normalizer = tf.keras.layers.Normalization(axis=-1) # Normalization layer\n",
    "normalizer.adapt(np.array(train_features)) # Fit the state of the preprocessing later to the data\n",
    "# print(normalizer.mean.numpy()) # Calculate mean and variance and store them in the later"
   ]
  },
  {
   "cell_type": "code",
   "execution_count": 6,
   "metadata": {},
   "outputs": [],
   "source": [
    "# first = np.array(train_features[:1])\n",
    "\n",
    "# with np.printoptions(precision=2, suppress=True):\n",
    "#   print('First example:', first)\n",
    "#   print()\n",
    "#   print('Normalized:', normalizer(first).numpy())"
   ]
  },
  {
   "cell_type": "markdown",
   "metadata": {},
   "source": [
    "DNN with Multiple Inputs"
   ]
  },
  {
   "cell_type": "code",
   "execution_count": 7,
   "metadata": {},
   "outputs": [],
   "source": [
    "def build_and_compile_model(norm):\n",
    "  model = keras.Sequential([\n",
    "      norm,\n",
    "      layers.Dense(64, activation='relu'),\n",
    "      layers.Dense(64, activation='relu'),\n",
    "      layers.Dense(1)\n",
    "  ])\n",
    "\n",
    "  model.compile(loss='mean_absolute_error',\n",
    "                optimizer=tf.keras.optimizers.Adam(0.001))\n",
    "  return model"
   ]
  },
  {
   "cell_type": "code",
   "execution_count": 8,
   "metadata": {},
   "outputs": [],
   "source": [
    "dnn_model = build_and_compile_model(normalizer)\n",
    "# dnn_model.summary()"
   ]
  },
  {
   "cell_type": "code",
   "execution_count": 9,
   "metadata": {},
   "outputs": [],
   "source": [
    "# %%time\n",
    "history = dnn_model.fit(\n",
    "    train_features,\n",
    "    train_labels,\n",
    "    validation_split=0.2,\n",
    "    verbose=0, epochs=100)"
   ]
  },
  {
   "cell_type": "code",
   "execution_count": 10,
   "metadata": {},
   "outputs": [],
   "source": [
    "def plot_loss(history):\n",
    "  plt.plot(history.history['loss'], label='loss')\n",
    "  plt.plot(history.history['val_loss'], label='val_loss')\n",
    "#   plt.ylim(ylimit)\n",
    "  plt.xlabel('Epoch')\n",
    "  plt.ylabel('Error [F]')\n",
    "  plt.legend()\n",
    "  plt.grid(True)"
   ]
  },
  {
   "cell_type": "code",
   "execution_count": 11,
   "metadata": {},
   "outputs": [
    {
     "data": {
      "image/png": "[encoded data removed]",
      "text/plain": [
       "<Figure size 432x288 with 1 Axes>"
      ]
     },
     "metadata": {
      "needs_background": "light"
     },
     "output_type": "display_data"
    }
   ],
   "source": [
    "plot_loss(history)"
   ]
  },
  {
   "cell_type": "code",
   "execution_count": 12,
   "metadata": {},
   "outputs": [],
   "source": [
    "test_results = {}\n",
    "\n",
    "# feature = np.array(train_features['phi_x'])\n",
    "# feature_normalizer = layers.Normalization(input_shape=[1,], axis=None)\n",
    "# feature_normalizer.adapt(feature)\n",
    "\n",
    "# dnn_feature_model = build_and_compile_model(feature_normalizer)\n",
    "\n",
    "test_results['dnn_model'] = dnn_model.evaluate(test_features, test_labels, verbose=0)"
   ]
  },
  {
   "cell_type": "code",
   "execution_count": 13,
   "metadata": {},
   "outputs": [
    {
     "name": "stdout",
     "output_type": "stream",
     "text": [
      "Mean absolute error [F] = 0.005454941652715206\n"
     ]
    }
   ],
   "source": [
    "pd.DataFrame(test_results, index=['Mean absolute error [F]']).T\n",
    "print('Mean absolute error [F] =', test_results['dnn_model'])"
   ]
  },
  {
   "cell_type": "code",
   "execution_count": 14,
   "metadata": {},
   "outputs": [
    {
     "name": "stdout",
     "output_type": "stream",
     "text": [
      "65/65 [==============================] - 0s 948us/step\n"
     ]
    },
    {
     "data": {
      "image/png": "[encoded data removed]",
      "text/plain": [
       "<Figure size 432x288 with 1 Axes>"
      ]
     },
     "metadata": {
      "needs_background": "light"
     },
     "output_type": "display_data"
    }
   ],
   "source": [
    "test_predictions = dnn_model.predict(test_features).flatten()\n",
    "\n",
    "a = plt.axes(aspect='equal')\n",
    "plt.scatter(test_labels, test_predictions)\n",
    "plt.xlabel('True Values [F]')\n",
    "plt.ylabel('Predictions [F]')\n",
    "lims = [0, 3.5]\n",
    "plt.xlim(lims)\n",
    "plt.ylim(lims)\n",
    "_ = plt.plot(lims, lims)\n",
    "\n"
   ]
  },
  {
   "cell_type": "code",
   "execution_count": 15,
   "metadata": {},
   "outputs": [
    {
     "data": {
      "text/plain": [
       "Text(0, 0.5, 'Count')"
      ]
     },
     "execution_count": 15,
     "metadata": {},
     "output_type": "execute_result"
    },
    {
     "data": {
      "image/png": "[encoded data removed]",
      "text/plain": [
       "<Figure size 432x288 with 1 Axes>"
      ]
     },
     "metadata": {
      "needs_background": "light"
     },
     "output_type": "display_data"
    }
   ],
   "source": [
    "error = test_predictions - test_labels\n",
    "plt.hist(error, bins=20)\n",
    "plt.xlabel('Prediction Error [F]')\n",
    "plt.ylabel('Count')"
   ]
  },
  {
   "cell_type": "code",
   "execution_count": null,
   "metadata": {},
   "outputs": [],
   "source": []
  },
  {
   "cell_type": "code",
   "execution_count": null,
   "metadata": {},
   "outputs": [],
   "source": []
  }
 ],
 "metadata": {
  "kernelspec": {
   "display_name": "Python 3",
   "language": "python",
   "name": "python3"
  },
  "language_info": {
   "codemirror_mode": {
    "name": "ipython",
    "version": 3
   },
   "file_extension": ".py",
   "mimetype": "text/x-python",
   "name": "python",
   "nbconvert_exporter": "python",
   "pygments_lexer": "ipython3",
   "version": "3.8.8"
  }
 },
 "nbformat": 4,
 "nbformat_minor": 4
}
