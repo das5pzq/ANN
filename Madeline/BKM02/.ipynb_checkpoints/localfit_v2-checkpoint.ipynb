{
 "cells": [
  {
   "cell_type": "code",
   "execution_count": 1,
   "metadata": {
    "id": "6FA-eZxiob8z"
   },
   "outputs": [
    {
     "ename": "ImportError",
     "evalue": "cannot import name 'TotalFLayer' from 'BHDVCS_tf' (/Users/madelineg/Desktop/Spin/ZulkaidaBKM/BHDVCS_tf.py)",
     "output_type": "error",
     "traceback": [
      "\u001b[0;31m---------------------------------------------------------------------------\u001b[0m",
      "\u001b[0;31mImportError\u001b[0m                               Traceback (most recent call last)",
      "\u001b[0;32m/var/folders/m4/4l5_8ty950z71mhsz83qvgq40000gn/T/ipykernel_34476/3438683331.py\u001b[0m in \u001b[0;36m<module>\u001b[0;34m\u001b[0m\n\u001b[1;32m      2\u001b[0m \u001b[0;32mimport\u001b[0m \u001b[0mpandas\u001b[0m \u001b[0;32mas\u001b[0m \u001b[0mpd\u001b[0m\u001b[0;34m\u001b[0m\u001b[0;34m\u001b[0m\u001b[0m\n\u001b[1;32m      3\u001b[0m \u001b[0;31m# from BHDVCS_tf import BHDVCStf\u001b[0m\u001b[0;34m\u001b[0m\u001b[0;34m\u001b[0m\u001b[0m\n\u001b[0;32m----> 4\u001b[0;31m \u001b[0;32mfrom\u001b[0m \u001b[0mBHDVCS_tf\u001b[0m \u001b[0;32mimport\u001b[0m \u001b[0mTotalFLayer\u001b[0m\u001b[0;34m\u001b[0m\u001b[0;34m\u001b[0m\u001b[0m\n\u001b[0m\u001b[1;32m      5\u001b[0m \u001b[0;32mfrom\u001b[0m \u001b[0mBHDVCS_tf\u001b[0m \u001b[0;32mimport\u001b[0m \u001b[0mDvcsData\u001b[0m\u001b[0;34m\u001b[0m\u001b[0;34m\u001b[0m\u001b[0m\n\u001b[1;32m      6\u001b[0m \u001b[0;32mfrom\u001b[0m \u001b[0mBHDVCS_tf\u001b[0m \u001b[0;32mimport\u001b[0m \u001b[0mcffs_from_globalModel\u001b[0m\u001b[0;34m\u001b[0m\u001b[0;34m\u001b[0m\u001b[0m\n",
      "\u001b[0;31mImportError\u001b[0m: cannot import name 'TotalFLayer' from 'BHDVCS_tf' (/Users/madelineg/Desktop/Spin/ZulkaidaBKM/BHDVCS_tf.py)"
     ]
    }
   ],
   "source": [
    "import numpy as np\n",
    "import pandas as pd \n",
    "# from BHDVCS_tf import BHDVCStf\n",
    "from BHDVCS_tf import TotalFLayer\n",
    "from BHDVCS_tf import DvcsData\n",
    "from BHDVCS_tf import cffs_from_globalModel\n",
    "from BHDVCS_tf import F2VsPhi\n",
    "import tensorflow as tf\n",
    "\n",
    "import matplotlib\n",
    "import matplotlib.pyplot as plt\n",
    "\n",
    "import sys\n",
    "from scipy.stats import chisquare\n",
    "\n",
    "df = pd.read_csv(\"BKM_pseudodata.csv\", dtype=np.float64)\n",
    "df = df.rename(columns={\"sigmaF\": \"errF\"})\n",
    "\n",
    "data = DvcsData(df)"
   ]
  },
  {
   "cell_type": "code",
   "execution_count": null,
   "metadata": {
    "id": "hx2wmkFLvOhY"
   },
   "outputs": [],
   "source": [
    "kinematics = tf.keras.Input(shape=(4))\n",
    "x1 = tf.keras.layers.Dense(100, activation=\"tanh\")(kinematics)\n",
    "x2 = tf.keras.layers.Dense(100, activation=\"tanh\")(x1)\n",
    "outputs = tf.keras.layers.Dense(4, activation=\"linear\")(x2)\n",
    "noncffInputs = tf.keras.Input(shape=(7))\n",
    "#### phi, kin1, kin2, kin3, kin4, F1, F2 ####\n",
    "total_FInputs = tf.keras.layers.concatenate([noncffInputs,outputs])\n",
    "TotalF = TotalFLayer()(total_FInputs)\n",
    "\n",
    "tfModel = tf.keras.Model(inputs=[kinematics, noncffInputs], outputs = TotalF, name=\"tfmodel\")\n",
    "early_stopping_callback = tf.keras.callbacks.EarlyStopping(monitor='loss', min_delta=0.0000005, patience=25)\n",
    "\n",
    "tfModel.compile(\n",
    "    optimizer = tf.keras.optimizers.Adam(.0085),\n",
    "    loss = tf.keras.losses.MeanSquaredError()\n",
    ")\n",
    "\n",
    "Wsave = tfModel.get_weights()  "
   ]
  },
  {
   "cell_type": "code",
   "execution_count": null,
   "metadata": {
    "colab": {
     "base_uri": "https://localhost:8080/",
     "height": 124
    },
    "id": "KSQaRmwPBrYA",
    "outputId": "ca3a9c0f-7aed-4a3f-89bd-05a09c08f8a0"
   },
   "outputs": [
    {
     "name": "stdout",
     "output_type": "stream",
     "text": [
      "WARNING:tensorflow:5 out of the last 5 calls to <function BHDVCStf.setKinematics at 0x7f79786dd050> triggered tf.function retracing. Tracing is expensive and the excessive number of tracings could be due to (1) creating @tf.function repeatedly in a loop, (2) passing tensors with different shapes, (3) passing Python objects instead of tensors. For (1), please define your @tf.function outside of the loop. For (2), @tf.function has experimental_relax_shapes=True option that relaxes argument shapes that can avoid unnecessary retracing. For (3), please refer to https://www.tensorflow.org/guide/function#controlling_retracing and https://www.tensorflow.org/api_docs/python/tf/function for  more details.\n",
      "WARNING:tensorflow:5 out of the last 5 calls to <function BHDVCStf.BHLeptonPropagators at 0x7f7978cdacb0> triggered tf.function retracing. Tracing is expensive and the excessive number of tracings could be due to (1) creating @tf.function repeatedly in a loop, (2) passing tensors with different shapes, (3) passing Python objects instead of tensors. For (1), please define your @tf.function outside of the loop. For (2), @tf.function has experimental_relax_shapes=True option that relaxes argument shapes that can avoid unnecessary retracing. For (3), please refer to https://www.tensorflow.org/guide/function#controlling_retracing and https://www.tensorflow.org/api_docs/python/tf/function for  more details.\n",
      "WARNING:tensorflow:5 out of the last 5 calls to <function BHDVCStf.BHUU at 0x7f797866be60> triggered tf.function retracing. Tracing is expensive and the excessive number of tracings could be due to (1) creating @tf.function repeatedly in a loop, (2) passing tensors with different shapes, (3) passing Python objects instead of tensors. For (1), please define your @tf.function outside of the loop. For (2), @tf.function has experimental_relax_shapes=True option that relaxes argument shapes that can avoid unnecessary retracing. For (3), please refer to https://www.tensorflow.org/guide/function#controlling_retracing and https://www.tensorflow.org/api_docs/python/tf/function for  more details.\n",
      "WARNING:tensorflow:5 out of the last 5 calls to <function BHDVCStf.IUU at 0x7f79785dfb90> triggered tf.function retracing. Tracing is expensive and the excessive number of tracings could be due to (1) creating @tf.function repeatedly in a loop, (2) passing tensors with different shapes, (3) passing Python objects instead of tensors. For (1), please define your @tf.function outside of the loop. For (2), @tf.function has experimental_relax_shapes=True option that relaxes argument shapes that can avoid unnecessary retracing. For (3), please refer to https://www.tensorflow.org/guide/function#controlling_retracing and https://www.tensorflow.org/api_docs/python/tf/function for  more details.\n"
     ]
    },
    {
     "data": {
      "text/plain": [
       "<Figure size 432x288 with 0 Axes>"
      ]
     },
     "metadata": {},
     "output_type": "display_data"
    }
   ],
   "source": [
    "#!!High-overfitting from batch_size 1, 2 100 node hidden layers no validation data, huge number of epochs!!#\n",
    "# Over-fitting to F will likely not reflect well in CFF predictions\n",
    "\n",
    "#Number of kinematic sets\n",
    "by_set = []\n",
    "for i in range(10):\n",
    "  setI = data.getSet(i, itemsInSet=45)\n",
    "\n",
    "  tfModel.set_weights(Wsave)\n",
    "\n",
    "  tfModel.fit([setI.Kinematics, setI.XnoCFF], setI.sampleY(), # one replica of samples from F vals\n",
    "                        epochs=15000, verbose=0, batch_size=1, callbacks=[early_stopping_callback])\n",
    "  \n",
    "  cffs = cffs_from_globalModel(tfModel, setI.Kinematics, numHL=2)\n",
    "\n",
    "  by_set.append(cffs)\n",
    "\n",
    "  new_xdat = np.transpose(setI.XnoCFF.to_numpy(dtype=np.float32)) #NB: Could rewrite BHDVCS curve_fit to not require transposition\n",
    "\n",
    "  # Avoid recalculating F-values from cffs when that is what the model is predicting already\n",
    "  F2VsPhi(df,i+1,new_xdat,cffs)\n",
    "  plt.clf()"
   ]
  },
  {
   "cell_type": "code",
   "execution_count": null,
   "metadata": {
    "id": "gL-f2o_vIeRH"
   },
   "outputs": [],
   "source": [
    "df = pd.DataFrame(by_set)\n",
    "df.to_csv('bySetCFFs.csv')"
   ]
  }
 ],
 "metadata": {
  "colab": {
   "collapsed_sections": [],
   "name": "localfit_v2",
   "provenance": []
  },
  "kernelspec": {
   "display_name": "Python 3 (ipykernel)",
   "language": "python",
   "name": "python3"
  },
  "language_info": {
   "codemirror_mode": {
    "name": "ipython",
    "version": 3
   },
   "file_extension": ".py",
   "mimetype": "text/x-python",
   "name": "python",
   "nbconvert_exporter": "python",
   "pygments_lexer": "ipython3",
   "version": "3.9.7"
  }
 },
 "nbformat": 4,
 "nbformat_minor": 1
}
