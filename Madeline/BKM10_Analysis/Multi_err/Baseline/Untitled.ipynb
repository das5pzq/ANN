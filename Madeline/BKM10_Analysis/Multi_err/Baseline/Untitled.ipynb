{
 "cells": [
  {
   "cell_type": "code",
   "execution_count": 4,
   "metadata": {},
   "outputs": [],
   "source": [
    "import utilities as uts #general utilities that are useful for all methods\n",
    "import pandas as pd\n",
    "import numpy as np\n",
    "import matplotlib.pyplot as plt\n",
    "\n",
    "df = pd.read_csv(\"/home/mag4ka/Aaryan/Rivanna/BKM10_pseudodata_generation_new.csv\")\n",
    "data = uts.DvcsData(df)\n",
    "\n",
    "#Get real CFF values for Kinematic Sets Chosen\n",
    "def getRealValues(sets, numPhi = 45):\n",
    "    realValues = []\n",
    "    for s in sets: \n",
    "        ReH, ReE, ReHtilde = df.loc[numPhi * s, 'ReH': 'ReHtilde']\n",
    "        realValues.append([ReH, ReE, ReHtilde])\n",
    "\n",
    "    return realValues\n",
    "\n",
    "#Calculates mean and std of distribution from model\n",
    "def calcMeanAndStd(data):\n",
    "    return [[round(np.mean(data.ReH), 4), round(np.mean(data.ReE), 4), round(np.mean(data.ReHtilde), 4)], [round(np.std(data.ReH), 4), round(np.std(data.ReE), 4), round(np.std(data.ReHtilde), 4)]]\n",
    "\n",
    "#Plots histogram with distribution and real values for a certain kinematic set\n",
    "def plotHis(data, realValues, setNum, buckets = [10, 10, 10], sameAxes = True):\n",
    "    plt.hist(data.ReHtilde, bins = buckets[2])\n",
    "    plt.hist(data.ReE, bins = buckets[1])\n",
    "    plt.hist(data.ReH, bins = buckets[0])\n",
    "\n",
    "    plt.title(str(setNum) + \" Distribution\")\n",
    "    plt.legend([\"ReHtilde\", \"ReE\", \"ReH\"])\n",
    "\n",
    "    if sameAxes: \n",
    "        plt.xlim(xmin=-70, xmax = 20)    \n",
    "    \n",
    "    plt.axvline(x=realValues[0], ymin=0, ymax=500, color = '#1a601b')\n",
    "    plt.axvline(x=realValues[1], ymin=0, ymax=500, color = '#7f3f07')\n",
    "    plt.axvline(x=realValues[2], ymin=0, ymax=500, color = '#0c3049')\n",
    "\n",
    "sets = [0]\n",
    "realValues = getRealValues(sets, numPhi=45)"
   ]
  },
  {
   "cell_type": "code",
   "execution_count": 8,
   "metadata": {},
   "outputs": [],
   "source": [
    "def getData(errValues):\n",
    "    ReHSTD = []\n",
    "    ReESTD = []\n",
    "    ReHtildeSTD = []\n",
    "\n",
    "    ReHMean = []\n",
    "    ReEMean = []\n",
    "    ReHtildeMean = []\n",
    "\n",
    "    reals = getRealValues([0], numPhi = 36)\n",
    "\n",
    "    for err in errValues:\n",
    "#         data = pd.read_csv(\"Method2-0-\" + str(err) +  \".csv\")\n",
    "        data = pd.read_csv(\"/home/mag4ka/Aaryan/Rivanna/Multi_err/Baseline/bySetCFFs1_\" + str(err) + \".csv\")\n",
    "        ReHSTD.append(round(np.std(data.ReH), 4))\n",
    "        ReESTD.append(round(np.std(data.ReE), 4))\n",
    "        ReHtildeSTD.append(round(np.std(data.ReHtilde), 4))\n",
    "\n",
    "        ReHMean.append(abs(round(reals[0][0] - np.mean(data.ReH), 4)))\n",
    "        ReEMean.append(abs(round(reals[0][1] - np.mean(data.ReE), 4)))\n",
    "        ReHtildeMean.append(abs(round(reals[0][2] - np.mean(data.ReHtilde), 4)))\n",
    "\n",
    "    return ReHSTD, ReESTD, ReHtildeSTD, ReHMean, ReEMean, ReHtildeMean"
   ]
  },
  {
   "cell_type": "code",
   "execution_count": 9,
   "metadata": {},
   "outputs": [
    {
     "ename": "AttributeError",
     "evalue": "'DataFrame' object has no attribute 'ReH'",
     "output_type": "error",
     "traceback": [
      "\u001b[0;31m---------------------------------------------------------------------------\u001b[0m",
      "\u001b[0;31mAttributeError\u001b[0m                            Traceback (most recent call last)",
      "\u001b[0;32m<ipython-input-9-a89ecf0d2d74>\u001b[0m in \u001b[0;36m<module>\u001b[0;34m\u001b[0m\n\u001b[1;32m      2\u001b[0m \u001b[0merrValues\u001b[0m \u001b[0;34m=\u001b[0m \u001b[0;34m[\u001b[0m\u001b[0;36m0.0\u001b[0m\u001b[0;34m,\u001b[0m \u001b[0;36m0.1\u001b[0m\u001b[0;34m]\u001b[0m\u001b[0;34m\u001b[0m\u001b[0;34m\u001b[0m\u001b[0m\n\u001b[1;32m      3\u001b[0m \u001b[0;31m# errValues = [0, 1, 2]\u001b[0m\u001b[0;34m\u001b[0m\u001b[0;34m\u001b[0m\u001b[0;34m\u001b[0m\u001b[0m\n\u001b[0;32m----> 4\u001b[0;31m \u001b[0mReHSTD\u001b[0m\u001b[0;34m,\u001b[0m \u001b[0mReESTD\u001b[0m\u001b[0;34m,\u001b[0m \u001b[0mReHtildeSTD\u001b[0m\u001b[0;34m,\u001b[0m \u001b[0mReHMean\u001b[0m\u001b[0;34m,\u001b[0m \u001b[0mReEMean\u001b[0m\u001b[0;34m,\u001b[0m \u001b[0mReHtildeMean\u001b[0m \u001b[0;34m=\u001b[0m \u001b[0mgetData\u001b[0m\u001b[0;34m(\u001b[0m\u001b[0merrValues\u001b[0m\u001b[0;34m)\u001b[0m\u001b[0;34m\u001b[0m\u001b[0;34m\u001b[0m\u001b[0m\n\u001b[0m",
      "\u001b[0;32m<ipython-input-8-9850a81258a6>\u001b[0m in \u001b[0;36mgetData\u001b[0;34m(errValues)\u001b[0m\n\u001b[1;32m     13\u001b[0m \u001b[0;31m#         data = pd.read_csv(\"Method2-0-\" + str(err) +  \".csv\")\u001b[0m\u001b[0;34m\u001b[0m\u001b[0;34m\u001b[0m\u001b[0;34m\u001b[0m\u001b[0m\n\u001b[1;32m     14\u001b[0m         \u001b[0mdata\u001b[0m \u001b[0;34m=\u001b[0m \u001b[0mpd\u001b[0m\u001b[0;34m.\u001b[0m\u001b[0mread_csv\u001b[0m\u001b[0;34m(\u001b[0m\u001b[0;34m\"/home/mag4ka/Aaryan/Rivanna/Multi_err/Baseline/bySetCFFs1_\"\u001b[0m \u001b[0;34m+\u001b[0m \u001b[0mstr\u001b[0m\u001b[0;34m(\u001b[0m\u001b[0merr\u001b[0m\u001b[0;34m)\u001b[0m \u001b[0;34m+\u001b[0m \u001b[0;34m\".csv\"\u001b[0m\u001b[0;34m)\u001b[0m\u001b[0;34m\u001b[0m\u001b[0;34m\u001b[0m\u001b[0m\n\u001b[0;32m---> 15\u001b[0;31m         \u001b[0mReHSTD\u001b[0m\u001b[0;34m.\u001b[0m\u001b[0mappend\u001b[0m\u001b[0;34m(\u001b[0m\u001b[0mround\u001b[0m\u001b[0;34m(\u001b[0m\u001b[0mnp\u001b[0m\u001b[0;34m.\u001b[0m\u001b[0mstd\u001b[0m\u001b[0;34m(\u001b[0m\u001b[0mdata\u001b[0m\u001b[0;34m.\u001b[0m\u001b[0mReH\u001b[0m\u001b[0;34m)\u001b[0m\u001b[0;34m,\u001b[0m \u001b[0;36m4\u001b[0m\u001b[0;34m)\u001b[0m\u001b[0;34m)\u001b[0m\u001b[0;34m\u001b[0m\u001b[0;34m\u001b[0m\u001b[0m\n\u001b[0m\u001b[1;32m     16\u001b[0m         \u001b[0mReESTD\u001b[0m\u001b[0;34m.\u001b[0m\u001b[0mappend\u001b[0m\u001b[0;34m(\u001b[0m\u001b[0mround\u001b[0m\u001b[0;34m(\u001b[0m\u001b[0mnp\u001b[0m\u001b[0;34m.\u001b[0m\u001b[0mstd\u001b[0m\u001b[0;34m(\u001b[0m\u001b[0mdata\u001b[0m\u001b[0;34m.\u001b[0m\u001b[0mReE\u001b[0m\u001b[0;34m)\u001b[0m\u001b[0;34m,\u001b[0m \u001b[0;36m4\u001b[0m\u001b[0;34m)\u001b[0m\u001b[0;34m)\u001b[0m\u001b[0;34m\u001b[0m\u001b[0;34m\u001b[0m\u001b[0m\n\u001b[1;32m     17\u001b[0m         \u001b[0mReHtildeSTD\u001b[0m\u001b[0;34m.\u001b[0m\u001b[0mappend\u001b[0m\u001b[0;34m(\u001b[0m\u001b[0mround\u001b[0m\u001b[0;34m(\u001b[0m\u001b[0mnp\u001b[0m\u001b[0;34m.\u001b[0m\u001b[0mstd\u001b[0m\u001b[0;34m(\u001b[0m\u001b[0mdata\u001b[0m\u001b[0;34m.\u001b[0m\u001b[0mReHtilde\u001b[0m\u001b[0;34m)\u001b[0m\u001b[0;34m,\u001b[0m \u001b[0;36m4\u001b[0m\u001b[0;34m)\u001b[0m\u001b[0;34m)\u001b[0m\u001b[0;34m\u001b[0m\u001b[0;34m\u001b[0m\u001b[0m\n",
      "\u001b[0;32m/apps/software/standard/compiler/gcc/9.2.0/jupyter_conda/2020.11-py3.8/lib/python3.8/site-packages/pandas/core/generic.py\u001b[0m in \u001b[0;36m__getattr__\u001b[0;34m(self, name)\u001b[0m\n\u001b[1;32m   5137\u001b[0m             \u001b[0;32mif\u001b[0m \u001b[0mself\u001b[0m\u001b[0;34m.\u001b[0m\u001b[0m_info_axis\u001b[0m\u001b[0;34m.\u001b[0m\u001b[0m_can_hold_identifiers_and_holds_name\u001b[0m\u001b[0;34m(\u001b[0m\u001b[0mname\u001b[0m\u001b[0;34m)\u001b[0m\u001b[0;34m:\u001b[0m\u001b[0;34m\u001b[0m\u001b[0;34m\u001b[0m\u001b[0m\n\u001b[1;32m   5138\u001b[0m                 \u001b[0;32mreturn\u001b[0m \u001b[0mself\u001b[0m\u001b[0;34m[\u001b[0m\u001b[0mname\u001b[0m\u001b[0;34m]\u001b[0m\u001b[0;34m\u001b[0m\u001b[0;34m\u001b[0m\u001b[0m\n\u001b[0;32m-> 5139\u001b[0;31m             \u001b[0;32mreturn\u001b[0m \u001b[0mobject\u001b[0m\u001b[0;34m.\u001b[0m\u001b[0m__getattribute__\u001b[0m\u001b[0;34m(\u001b[0m\u001b[0mself\u001b[0m\u001b[0;34m,\u001b[0m \u001b[0mname\u001b[0m\u001b[0;34m)\u001b[0m\u001b[0;34m\u001b[0m\u001b[0;34m\u001b[0m\u001b[0m\n\u001b[0m\u001b[1;32m   5140\u001b[0m \u001b[0;34m\u001b[0m\u001b[0m\n\u001b[1;32m   5141\u001b[0m     \u001b[0;32mdef\u001b[0m \u001b[0m__setattr__\u001b[0m\u001b[0;34m(\u001b[0m\u001b[0mself\u001b[0m\u001b[0;34m,\u001b[0m \u001b[0mname\u001b[0m\u001b[0;34m:\u001b[0m \u001b[0mstr\u001b[0m\u001b[0;34m,\u001b[0m \u001b[0mvalue\u001b[0m\u001b[0;34m)\u001b[0m \u001b[0;34m->\u001b[0m \u001b[0;32mNone\u001b[0m\u001b[0;34m:\u001b[0m\u001b[0;34m\u001b[0m\u001b[0;34m\u001b[0m\u001b[0m\n",
      "\u001b[0;31mAttributeError\u001b[0m: 'DataFrame' object has no attribute 'ReH'"
     ]
    }
   ],
   "source": [
    "# errValues = [0.0, 0.01, 0.02, 0.03, 0.04, 0.05, 0.075, 0.1, 0.15, 0.2, 0.25, 0.35, 0.5]\n",
    "errValues = [0.0, 0.1]\n",
    "# errValues = [0, 1, 2]\n",
    "ReHSTD, ReESTD, ReHtildeSTD, ReHMean, ReEMean, ReHtildeMean = getData(errValues)"
   ]
  },
  {
   "cell_type": "code",
   "execution_count": null,
   "metadata": {},
   "outputs": [],
   "source": [
    "setNum = 0\n",
    "\n",
    "_ = pd.read_csv(\"/home/mag4ka/Aaryan/Rivanna/Multi_err/Predictions/Method2-0-\" + str(0.0) + \".csv\")\n",
    "print(realValues[setNum])\n",
    "plotHis(_, realValues[setNum], setNum, [12, 25, 15], sameAxes=False)\n",
    "mean005, std005 = calcMeanAndStd(_)"
   ]
  },
  {
   "cell_type": "code",
   "execution_count": null,
   "metadata": {},
   "outputs": [],
   "source": [
    "setNum = 0\n",
    "\n",
    "_ = pd.read_csv(\"/home/mag4ka/Aaryan/Rivanna/Multi_err/Predictions/Method2-0-\" + str(0.05) + \".csv\")\n",
    "print(realValues[setNum])\n",
    "plotHis(_, realValues[setNum], setNum, [12, 20, 25], sameAxes=False)\n",
    "mean005, std005 = calcMeanAndStd(_)"
   ]
  }
 ],
 "metadata": {
  "kernelspec": {
   "display_name": "Python 3",
   "language": "python",
   "name": "python3"
  },
  "language_info": {
   "codemirror_mode": {
    "name": "ipython",
    "version": 3
   },
   "file_extension": ".py",
   "mimetype": "text/x-python",
   "name": "python",
   "nbconvert_exporter": "python",
   "pygments_lexer": "ipython3",
   "version": "3.8.8"
  }
 },
 "nbformat": 4,
 "nbformat_minor": 4
}
