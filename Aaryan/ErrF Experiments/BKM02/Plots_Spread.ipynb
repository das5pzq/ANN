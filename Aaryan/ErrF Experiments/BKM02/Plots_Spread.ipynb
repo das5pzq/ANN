{
 "cells": [
  {
   "cell_type": "code",
   "execution_count": 4,
   "metadata": {},
   "outputs": [],
   "source": [
    "from BHDVCS_tf import DvcsData\n",
    "import pandas as pd\n",
    "import numpy as np\n",
    "import plotly.graph_objects as go\n",
    "import plotly.express as px\n",
    "\n",
    "df = pd.read_csv(\"dvcs_bkm_xs_June2021_4pars.csv\")\n",
    "errValues = [0.0, 0.01, 0.025, 0.05, 0.1, 0.15, 0.25, 0.30]\n",
    "\n",
    "def getReals(setNum, numPhi = 45):\n",
    "    df = pd.read_csv(\"dvcs_bkm_xs_June2021_4pars.csv\")\n",
    "    return df.loc[numPhi * setNum, 'gReH': 'gReHTilde']\n",
    "\n",
    "def getColorMappingValues(errF, amountofSets):\n",
    "    ReHMean = []\n",
    "    ReEMean = []\n",
    "    ReHtildeMean = []\n",
    "    for set in range(amountofSets):\n",
    "        data = pd.read_csv(\"Predictions\\Method2-\"+ str(set) + \"-\" + str(errF) +  \".csv\")\n",
    "        \n",
    "        # NOTE we take max(mean, -1) because if data is more than 100% error it should just cap in terms of heatmapping\n",
    "        #Inverted because currently smaller values are red and larger values are green\n",
    "        #Want to make opposite (smaller %error-values = green and larger %error-values = red) therefore we multiply by -1\n",
    "        ReHMean.append(100 * max(-abs(np.mean(data.ReH)), -1))\n",
    "        ReEMean.append(100 * max(-abs(np.mean(data.ReE)), -1))\n",
    "        ReHtildeMean.append(100 * max(-abs(np.mean(data.ReHtilde)), -1))\n",
    "\n",
    "    return ReHMean, ReEMean, ReHtildeMean  \n",
    "\n",
    "def getSizes(errF, amountofSets):\n",
    "    ReHMean = []\n",
    "    ReEMean = []\n",
    "    ReHtildeMean = []\n",
    "    for set in range(amountofSets):\n",
    "        data = pd.read_csv(\"Predictions\\Method2-\"+ str(set) + \"-\" + str(errF) +  \".csv\")\n",
    "        \n",
    "        ReHMean.append(10 + pow(np.std(data.ReH), 0.75))\n",
    "        ReEMean.append(10 + pow(np.std(data.ReE), 0.75))\n",
    "        ReHtildeMean.append(10 + pow(np.std(data.ReHtilde), 0.75))\n",
    "\n",
    "    return ReHMean, ReEMean, ReHtildeMean\n",
    "\n",
    "#Returns lists that contain the kinematics for each index\n",
    "def getkinematics(numSets):\n",
    "    k = []\n",
    "    QQ = []\n",
    "    xb = []\n",
    "    t = []\n",
    "    for i in range(numSets):\n",
    "        #gets a set's kinematics\n",
    "        kvar, Q, x, ts = df.loc[45 * i, 'k': 't']\n",
    "        \n",
    "        #adds set's kinematics to running list\n",
    "        k.append(kvar)\n",
    "        QQ.append(Q)\n",
    "        xb.append(x)\n",
    "        t.append(ts)\n",
    "    \n",
    "    return k, QQ, xb, t\n",
    "\n",
    "def plotInteractive(err, numSets, whichCFF, show = True):\n",
    "    h, e, tilde = getColorMappingValues(err, numSets)\n",
    "    hs, es, tildes = getSizes(err, numSets)\n",
    "    _, QQ, xb, t = getkinematics(numSets)\n",
    "\n",
    "\n",
    "    chosens = []\n",
    "    chosen = []\n",
    "    if whichCFF == 'ReH':\n",
    "        chosens = hs\n",
    "        chosen = h\n",
    "    elif whichCFF == 'ReE':\n",
    "        chosens = es\n",
    "        chosen = e\n",
    "    else: \n",
    "        chosen = tilde\n",
    "        chosens = tildes\n",
    "        whichCFF = 'ReHtilde'\n",
    "\n",
    "    # Blue means better predictions -- Red --> Worse Predictions\n",
    "    splot = go.Figure(data=[go.Scatter3d(\n",
    "        x=QQ,\n",
    "        y=t,\n",
    "        z=xb,\n",
    "        mode='markers',\n",
    "        marker=dict(\n",
    "            showscale=True,\n",
    "            cmax=0,\n",
    "            cmin=-100,\n",
    "            size=chosens,\n",
    "            color=chosen,                # set color to an array/list of desired values\n",
    "            colorscale='RdYlGn',   # choose a colorscale\n",
    "            opacity=0.8\n",
    "        ),\n",
    "        hovertemplate = \"QQ: %{x:.2f}<br>t: %{y:.2f}<br>xb: %{z:.2f}\"\n",
    "    )])\n",
    "\n",
    "    splot.update_traces\n",
    "    splot.update_layout(\n",
    "        title = 'Prediction Accuracy on ' + whichCFF + ' with ' + str(err*100) + '% Error on F',\n",
    "        scene = dict(\n",
    "            xaxis_title='QQ',\n",
    "            yaxis_title='t',\n",
    "            zaxis_title='x_b',\n",
    "            aspectmode='cube',\n",
    "        ),\n",
    "        template='ggplot2',\n",
    "        margin=dict(r=0, b=40, l=0, t=50)\n",
    "    )\n",
    "\n",
    "    #splot.write_html('Interactive Plots/Mega/Acc+Spread_' + whichCFF + '_' +str(err*100) + 'ErrF.html')\n",
    "\n",
    "    if show:\n",
    "        splot.show()"
   ]
  },
  {
   "cell_type": "code",
   "execution_count": 7,
   "metadata": {},
   "outputs": [
    {
     "data": {
      "application/vnd.plotly.v1+json": {
       "config": {
        "plotlyServerURL": "https://plot.ly"
       },
       "data": [
        {
         "hovertemplate": "QQ: %{x:.2f}<br>t: %{y:.2f}<br>xb: %{z:.2f}",
         "marker": {
          "cmax": 0,
          "cmin": -100,
          "color": [
           -64.84865095902879,
           -0.1558610305377993,
           -46.676124103110936,
           -30.02857305363734,
           -45.68049164492996,
           -14.289219843374884,
           -19.083310783771886,
           -44.5992187677421,
           -60.38626769552832,
           -9.073156848824638,
           -13.566575152406573,
           -5.811344735984783,
           -22.268700842963902,
           -29.756027908908926,
           -18.961779916920342,
           -34.73762157936412,
           -34.3763983514594,
           -15.422146139549357,
           -29.681370851269484,
           -29.60648978242771,
           -28.96768033526005,
           -19.799273613307538,
           -81.47367742492527,
           -79.87719621550757,
           -47.580312373902764,
           -28.169533268346385,
           -20.697952486768,
           -8.9573917516561,
           -19.120021761077833,
           -66.573698707298,
           -46.35016540721942,
           -11.82630766497943,
           -52.83495880348642,
           -26.476151763854727,
           -20.194969010731207,
           -3.5636936126277314,
           -78.76475465053872,
           -51.67096156225025,
           -11.365204746327565,
           -27.754099148678772,
           -34.179244800883005,
           -27.252464328735766,
           -19.62375362348215,
           -20.631617436226577,
           -100,
           -22.099958814277603,
           -59.237019756641416,
           -50.22296956571272,
           -78.31748193488231,
           -20.355637409823508
          ],
          "colorscale": [
           [
            0,
            "rgb(165,0,38)"
           ],
           [
            0.1,
            "rgb(215,48,39)"
           ],
           [
            0.2,
            "rgb(244,109,67)"
           ],
           [
            0.3,
            "rgb(253,174,97)"
           ],
           [
            0.4,
            "rgb(254,224,139)"
           ],
           [
            0.5,
            "rgb(255,255,191)"
           ],
           [
            0.6,
            "rgb(217,239,139)"
           ],
           [
            0.7,
            "rgb(166,217,106)"
           ],
           [
            0.8,
            "rgb(102,189,99)"
           ],
           [
            0.9,
            "rgb(26,152,80)"
           ],
           [
            1,
            "rgb(0,104,55)"
           ]
          ],
          "opacity": 0.8,
          "showscale": true,
          "size": [
           10.142028062953965,
           10.154590312497092,
           10.103084992051638,
           10.101489100297014,
           10.126431646517974,
           10.331496224914059,
           10.177203528436765,
           10.097272716212299,
           10.525757856382857,
           10.099375056478262,
           10.066582160040964,
           10.181666521839766,
           10.091883965758186,
           10.161486213730008,
           10.211377777292663,
           10.108433497913373,
           10.135858238845723,
           10.128044836877178,
           10.068641614868154,
           10.084052548054997,
           10.083669977422744,
           10.116850742601368,
           10.18401606835769,
           10.17041861789123,
           10.107861263719087,
           10.11501251018722,
           10.08357726342828,
           10.056158556429308,
           10.14783904109419,
           10.14746030945042,
           10.139150066571927,
           10.073936995436476,
           10.281064348909002,
           10.135909423019607,
           10.186848916886156,
           10.13837070763943,
           10.246434951421637,
           10.148514282657056,
           10.110831519457175,
           10.075721432461869,
           10.143443499684984,
           10.099270584108984,
           10.192958906299715,
           10.282843355778562,
           10.425685855965765,
           10.154291834556668,
           10.182593442291088,
           10.136054536290475,
           10.286874731617232,
           10.099576743587932
          ]
         },
         "mode": "markers",
         "type": "scatter3d",
         "x": [
          1.20485,
          1.84791,
          1.51694,
          1.25164,
          1.30314,
          1.52927,
          2.13732,
          1.28872,
          2.0441,
          1.67202,
          1.11718,
          1.18504,
          1.24448,
          1.20236,
          1.79839,
          1.31044,
          1.45333,
          1.30264,
          1.19833,
          1.05838,
          1.30015,
          1.21388,
          1.44068,
          1.16598,
          1.11134,
          1.18603,
          1.55475,
          1.22036,
          1.40734,
          1.3728,
          1.09277,
          1.62992,
          1.7703,
          1.96251,
          1.66376,
          1.65558,
          2.03883,
          1.37405,
          1.54558,
          1.0288,
          1.71826,
          1.21809,
          1.25794,
          1.88168,
          1.55218,
          1.15447,
          1.62694,
          1.77463,
          1.60702,
          1.07021
         ],
         "y": [
          -0.537906,
          -0.538479,
          -0.573419,
          -0.425715,
          -0.599965,
          -0.593316,
          -0.485421,
          -0.595051,
          -0.591957,
          -0.437331,
          -0.544677,
          -0.363566,
          -0.408987,
          -0.485485,
          -0.480416,
          -0.485034,
          -0.450872,
          -0.535946,
          -0.541912,
          -0.432579,
          -0.488225,
          -0.298924,
          -0.586063,
          -0.504644,
          -0.454483,
          -0.463942,
          -0.599663,
          -0.564592,
          -0.361832,
          -0.441797,
          -0.495106,
          -0.523453,
          -0.56819,
          -0.594875,
          -0.47075,
          -0.495104,
          -0.595812,
          -0.545881,
          -0.592446,
          -0.509322,
          -0.553647,
          -0.41486,
          -0.357362,
          -0.575657,
          -0.380741,
          -0.549915,
          -0.522251,
          -0.567055,
          -0.590458,
          -0.521254
         ],
         "z": [
          0.571359,
          0.552388,
          0.582424,
          0.502455,
          0.349096,
          0.664873,
          0.515192,
          0.66631,
          0.631528,
          0.440743,
          0.437769,
          0.515941,
          0.490763,
          0.584234,
          0.54067,
          0.53568,
          0.529695,
          0.593233,
          0.53658,
          0.471996,
          0.564074,
          0.415684,
          0.657525,
          0.635065,
          0.538403,
          0.509115,
          0.540229,
          0.487716,
          0.459746,
          0.552103,
          0.242222,
          0.484643,
          0.635549,
          0.585278,
          0.377388,
          0.572192,
          0.633521,
          0.648993,
          0.642617,
          0.493241,
          0.61241,
          0.461894,
          0.492654,
          0.629261,
          0.320327,
          0.640517,
          0.372293,
          0.395451,
          0.357394,
          0.621182
         ]
        }
       ],
       "layout": {
        "margin": {
         "b": 40,
         "l": 0,
         "r": 0,
         "t": 50
        },
        "scene": {
         "aspectmode": "cube",
         "xaxis": {
          "title": {
           "text": "QQ"
          }
         },
         "yaxis": {
          "title": {
           "text": "t"
          }
         },
         "zaxis": {
          "title": {
           "text": "x_b"
          }
         }
        },
        "template": {
         "data": {
          "bar": [
           {
            "error_x": {
             "color": "rgb(51,51,51)"
            },
            "error_y": {
             "color": "rgb(51,51,51)"
            },
            "marker": {
             "line": {
              "color": "rgb(237,237,237)",
              "width": 0.5
             },
             "pattern": {
              "fillmode": "overlay",
              "size": 10,
              "solidity": 0.2
             }
            },
            "type": "bar"
           }
          ],
          "barpolar": [
           {
            "marker": {
             "line": {
              "color": "rgb(237,237,237)",
              "width": 0.5
             },
             "pattern": {
              "fillmode": "overlay",
              "size": 10,
              "solidity": 0.2
             }
            },
            "type": "barpolar"
           }
          ],
          "carpet": [
           {
            "aaxis": {
             "endlinecolor": "rgb(51,51,51)",
             "gridcolor": "white",
             "linecolor": "white",
             "minorgridcolor": "white",
             "startlinecolor": "rgb(51,51,51)"
            },
            "baxis": {
             "endlinecolor": "rgb(51,51,51)",
             "gridcolor": "white",
             "linecolor": "white",
             "minorgridcolor": "white",
             "startlinecolor": "rgb(51,51,51)"
            },
            "type": "carpet"
           }
          ],
          "choropleth": [
           {
            "colorbar": {
             "outlinewidth": 0,
             "tickcolor": "rgb(237,237,237)",
             "ticklen": 6,
             "ticks": "inside"
            },
            "type": "choropleth"
           }
          ],
          "contour": [
           {
            "colorbar": {
             "outlinewidth": 0,
             "tickcolor": "rgb(237,237,237)",
             "ticklen": 6,
             "ticks": "inside"
            },
            "colorscale": [
             [
              0,
              "rgb(20,44,66)"
             ],
             [
              1,
              "rgb(90,179,244)"
             ]
            ],
            "type": "contour"
           }
          ],
          "contourcarpet": [
           {
            "colorbar": {
             "outlinewidth": 0,
             "tickcolor": "rgb(237,237,237)",
             "ticklen": 6,
             "ticks": "inside"
            },
            "type": "contourcarpet"
           }
          ],
          "heatmap": [
           {
            "colorbar": {
             "outlinewidth": 0,
             "tickcolor": "rgb(237,237,237)",
             "ticklen": 6,
             "ticks": "inside"
            },
            "colorscale": [
             [
              0,
              "rgb(20,44,66)"
             ],
             [
              1,
              "rgb(90,179,244)"
             ]
            ],
            "type": "heatmap"
           }
          ],
          "heatmapgl": [
           {
            "colorbar": {
             "outlinewidth": 0,
             "tickcolor": "rgb(237,237,237)",
             "ticklen": 6,
             "ticks": "inside"
            },
            "colorscale": [
             [
              0,
              "rgb(20,44,66)"
             ],
             [
              1,
              "rgb(90,179,244)"
             ]
            ],
            "type": "heatmapgl"
           }
          ],
          "histogram": [
           {
            "marker": {
             "pattern": {
              "fillmode": "overlay",
              "size": 10,
              "solidity": 0.2
             }
            },
            "type": "histogram"
           }
          ],
          "histogram2d": [
           {
            "colorbar": {
             "outlinewidth": 0,
             "tickcolor": "rgb(237,237,237)",
             "ticklen": 6,
             "ticks": "inside"
            },
            "colorscale": [
             [
              0,
              "rgb(20,44,66)"
             ],
             [
              1,
              "rgb(90,179,244)"
             ]
            ],
            "type": "histogram2d"
           }
          ],
          "histogram2dcontour": [
           {
            "colorbar": {
             "outlinewidth": 0,
             "tickcolor": "rgb(237,237,237)",
             "ticklen": 6,
             "ticks": "inside"
            },
            "colorscale": [
             [
              0,
              "rgb(20,44,66)"
             ],
             [
              1,
              "rgb(90,179,244)"
             ]
            ],
            "type": "histogram2dcontour"
           }
          ],
          "mesh3d": [
           {
            "colorbar": {
             "outlinewidth": 0,
             "tickcolor": "rgb(237,237,237)",
             "ticklen": 6,
             "ticks": "inside"
            },
            "type": "mesh3d"
           }
          ],
          "parcoords": [
           {
            "line": {
             "colorbar": {
              "outlinewidth": 0,
              "tickcolor": "rgb(237,237,237)",
              "ticklen": 6,
              "ticks": "inside"
             }
            },
            "type": "parcoords"
           }
          ],
          "pie": [
           {
            "automargin": true,
            "type": "pie"
           }
          ],
          "scatter": [
           {
            "fillpattern": {
             "fillmode": "overlay",
             "size": 10,
             "solidity": 0.2
            },
            "type": "scatter"
           }
          ],
          "scatter3d": [
           {
            "line": {
             "colorbar": {
              "outlinewidth": 0,
              "tickcolor": "rgb(237,237,237)",
              "ticklen": 6,
              "ticks": "inside"
             }
            },
            "marker": {
             "colorbar": {
              "outlinewidth": 0,
              "tickcolor": "rgb(237,237,237)",
              "ticklen": 6,
              "ticks": "inside"
             }
            },
            "type": "scatter3d"
           }
          ],
          "scattercarpet": [
           {
            "marker": {
             "colorbar": {
              "outlinewidth": 0,
              "tickcolor": "rgb(237,237,237)",
              "ticklen": 6,
              "ticks": "inside"
             }
            },
            "type": "scattercarpet"
           }
          ],
          "scattergeo": [
           {
            "marker": {
             "colorbar": {
              "outlinewidth": 0,
              "tickcolor": "rgb(237,237,237)",
              "ticklen": 6,
              "ticks": "inside"
             }
            },
            "type": "scattergeo"
           }
          ],
          "scattergl": [
           {
            "marker": {
             "colorbar": {
              "outlinewidth": 0,
              "tickcolor": "rgb(237,237,237)",
              "ticklen": 6,
              "ticks": "inside"
             }
            },
            "type": "scattergl"
           }
          ],
          "scattermapbox": [
           {
            "marker": {
             "colorbar": {
              "outlinewidth": 0,
              "tickcolor": "rgb(237,237,237)",
              "ticklen": 6,
              "ticks": "inside"
             }
            },
            "type": "scattermapbox"
           }
          ],
          "scatterpolar": [
           {
            "marker": {
             "colorbar": {
              "outlinewidth": 0,
              "tickcolor": "rgb(237,237,237)",
              "ticklen": 6,
              "ticks": "inside"
             }
            },
            "type": "scatterpolar"
           }
          ],
          "scatterpolargl": [
           {
            "marker": {
             "colorbar": {
              "outlinewidth": 0,
              "tickcolor": "rgb(237,237,237)",
              "ticklen": 6,
              "ticks": "inside"
             }
            },
            "type": "scatterpolargl"
           }
          ],
          "scatterternary": [
           {
            "marker": {
             "colorbar": {
              "outlinewidth": 0,
              "tickcolor": "rgb(237,237,237)",
              "ticklen": 6,
              "ticks": "inside"
             }
            },
            "type": "scatterternary"
           }
          ],
          "surface": [
           {
            "colorbar": {
             "outlinewidth": 0,
             "tickcolor": "rgb(237,237,237)",
             "ticklen": 6,
             "ticks": "inside"
            },
            "colorscale": [
             [
              0,
              "rgb(20,44,66)"
             ],
             [
              1,
              "rgb(90,179,244)"
             ]
            ],
            "type": "surface"
           }
          ],
          "table": [
           {
            "cells": {
             "fill": {
              "color": "rgb(237,237,237)"
             },
             "line": {
              "color": "white"
             }
            },
            "header": {
             "fill": {
              "color": "rgb(217,217,217)"
             },
             "line": {
              "color": "white"
             }
            },
            "type": "table"
           }
          ]
         },
         "layout": {
          "annotationdefaults": {
           "arrowhead": 0,
           "arrowwidth": 1
          },
          "autotypenumbers": "strict",
          "coloraxis": {
           "colorbar": {
            "outlinewidth": 0,
            "tickcolor": "rgb(237,237,237)",
            "ticklen": 6,
            "ticks": "inside"
           }
          },
          "colorscale": {
           "sequential": [
            [
             0,
             "rgb(20,44,66)"
            ],
            [
             1,
             "rgb(90,179,244)"
            ]
           ],
           "sequentialminus": [
            [
             0,
             "rgb(20,44,66)"
            ],
            [
             1,
             "rgb(90,179,244)"
            ]
           ]
          },
          "colorway": [
           "#F8766D",
           "#A3A500",
           "#00BF7D",
           "#00B0F6",
           "#E76BF3"
          ],
          "font": {
           "color": "rgb(51,51,51)"
          },
          "geo": {
           "bgcolor": "white",
           "lakecolor": "white",
           "landcolor": "rgb(237,237,237)",
           "showlakes": true,
           "showland": true,
           "subunitcolor": "white"
          },
          "hoverlabel": {
           "align": "left"
          },
          "hovermode": "closest",
          "paper_bgcolor": "white",
          "plot_bgcolor": "rgb(237,237,237)",
          "polar": {
           "angularaxis": {
            "gridcolor": "white",
            "linecolor": "white",
            "showgrid": true,
            "tickcolor": "rgb(51,51,51)",
            "ticks": "outside"
           },
           "bgcolor": "rgb(237,237,237)",
           "radialaxis": {
            "gridcolor": "white",
            "linecolor": "white",
            "showgrid": true,
            "tickcolor": "rgb(51,51,51)",
            "ticks": "outside"
           }
          },
          "scene": {
           "xaxis": {
            "backgroundcolor": "rgb(237,237,237)",
            "gridcolor": "white",
            "gridwidth": 2,
            "linecolor": "white",
            "showbackground": true,
            "showgrid": true,
            "tickcolor": "rgb(51,51,51)",
            "ticks": "outside",
            "zerolinecolor": "white"
           },
           "yaxis": {
            "backgroundcolor": "rgb(237,237,237)",
            "gridcolor": "white",
            "gridwidth": 2,
            "linecolor": "white",
            "showbackground": true,
            "showgrid": true,
            "tickcolor": "rgb(51,51,51)",
            "ticks": "outside",
            "zerolinecolor": "white"
           },
           "zaxis": {
            "backgroundcolor": "rgb(237,237,237)",
            "gridcolor": "white",
            "gridwidth": 2,
            "linecolor": "white",
            "showbackground": true,
            "showgrid": true,
            "tickcolor": "rgb(51,51,51)",
            "ticks": "outside",
            "zerolinecolor": "white"
           }
          },
          "shapedefaults": {
           "fillcolor": "black",
           "line": {
            "width": 0
           },
           "opacity": 0.3
          },
          "ternary": {
           "aaxis": {
            "gridcolor": "white",
            "linecolor": "white",
            "showgrid": true,
            "tickcolor": "rgb(51,51,51)",
            "ticks": "outside"
           },
           "baxis": {
            "gridcolor": "white",
            "linecolor": "white",
            "showgrid": true,
            "tickcolor": "rgb(51,51,51)",
            "ticks": "outside"
           },
           "bgcolor": "rgb(237,237,237)",
           "caxis": {
            "gridcolor": "white",
            "linecolor": "white",
            "showgrid": true,
            "tickcolor": "rgb(51,51,51)",
            "ticks": "outside"
           }
          },
          "xaxis": {
           "automargin": true,
           "gridcolor": "white",
           "linecolor": "white",
           "showgrid": true,
           "tickcolor": "rgb(51,51,51)",
           "ticks": "outside",
           "title": {
            "standoff": 15
           },
           "zerolinecolor": "white"
          },
          "yaxis": {
           "automargin": true,
           "gridcolor": "white",
           "linecolor": "white",
           "showgrid": true,
           "tickcolor": "rgb(51,51,51)",
           "ticks": "outside",
           "title": {
            "standoff": 15
           },
           "zerolinecolor": "white"
          }
         }
        },
        "title": {
         "text": "Prediction Accuracy on ReH with 0.0% Error on F"
        }
       }
      }
     },
     "metadata": {},
     "output_type": "display_data"
    }
   ],
   "source": [
    "plotInteractive(0.0, 50, 'ReH')"
   ]
  },
  {
   "cell_type": "code",
   "execution_count": 8,
   "metadata": {},
   "outputs": [
    {
     "data": {
      "application/vnd.plotly.v1+json": {
       "config": {
        "plotlyServerURL": "https://plot.ly"
       },
       "data": [
        {
         "hovertemplate": "QQ: %{x:.2f}<br>t: %{y:.2f}<br>xb: %{z:.2f}",
         "marker": {
          "cmax": 0,
          "cmin": -100,
          "color": [
           -18.143055132197297,
           -100,
           -88.98638888539998,
           -88.04959711692848,
           -57.46852551428545,
           -100,
           -14.664490291561332,
           -76.11267980349065,
           -100,
           -18.591961717944436,
           -13.358460127400487,
           -60.49353184508624,
           -71.79253770541652,
           -82.87286357494067,
           -100,
           -29.58899434715056,
           -80.09282234964965,
           -14.829097620573156,
           -1.073723075787785,
           -22.773632497597884,
           -66.63780410570723,
           -6.973506803404931,
           -100,
           -100,
           -82.95663523235477,
           -32.869319831807445,
           -20.580235019987477,
           -11.947343487470103,
           -23.324233166616025,
           -90.61426017467711,
           -49.34916402242396,
           -9.518782834235855,
           -100,
           -100,
           -24.882156484013194,
           -100,
           -100,
           -54.94336632942943,
           -100,
           -23.391978047002244,
           -100,
           -7.300971608176835,
           -8.66530105412611,
           -100,
           -100,
           -72.87298925215855,
           -79.16567299429897,
           -100,
           -100,
           -4.968153910859472
          ],
          "colorscale": [
           [
            0,
            "rgb(165,0,38)"
           ],
           [
            0.1,
            "rgb(215,48,39)"
           ],
           [
            0.2,
            "rgb(244,109,67)"
           ],
           [
            0.3,
            "rgb(253,174,97)"
           ],
           [
            0.4,
            "rgb(254,224,139)"
           ],
           [
            0.5,
            "rgb(255,255,191)"
           ],
           [
            0.6,
            "rgb(217,239,139)"
           ],
           [
            0.7,
            "rgb(166,217,106)"
           ],
           [
            0.8,
            "rgb(102,189,99)"
           ],
           [
            0.9,
            "rgb(26,152,80)"
           ],
           [
            1,
            "rgb(0,104,55)"
           ]
          ],
          "opacity": 0.8,
          "showscale": true,
          "size": [
           10.6014918514321,
           17.604777088295194,
           12.853017245003763,
           11.628742197933997,
           11.902079940837863,
           12.794422696679142,
           20.343017845150563,
           14.143668000514646,
           14.121411077256967,
           13.11082826604585,
           11.337538767256083,
           16.113015178779825,
           11.667543977142941,
           12.46309282400841,
           22.378708681438695,
           11.471139059670966,
           15.133844531597827,
           12.22257743528311,
           11.092843217609746,
           11.172194610175051,
           12.70648950084746,
           13.61790203161602,
           19.643800450978965,
           15.30525779274097,
           10.858075445173599,
           10.795400922586461,
           10.773918953268584,
           11.436592651410958,
           15.132386543329806,
           16.692662080866544,
           18.408890866820876,
           11.129494516614992,
           13.940421229779721,
           20.29635444933124,
           10.947199100226772,
           20.98176629296273,
           14.885768105139096,
           17.355632530460745,
           21.06188482225381,
           11.145583454506863,
           26.547234943353455,
           10.879040595281753,
           15.719593612970648,
           16.534383067021466,
           23.294795818460187,
           11.915938648678072,
           11.75680843097491,
           12.985621964917604,
           13.036783938550787,
           10.97260136714056
          ]
         },
         "mode": "markers",
         "type": "scatter3d",
         "x": [
          1.20485,
          1.84791,
          1.51694,
          1.25164,
          1.30314,
          1.52927,
          2.13732,
          1.28872,
          2.0441,
          1.67202,
          1.11718,
          1.18504,
          1.24448,
          1.20236,
          1.79839,
          1.31044,
          1.45333,
          1.30264,
          1.19833,
          1.05838,
          1.30015,
          1.21388,
          1.44068,
          1.16598,
          1.11134,
          1.18603,
          1.55475,
          1.22036,
          1.40734,
          1.3728,
          1.09277,
          1.62992,
          1.7703,
          1.96251,
          1.66376,
          1.65558,
          2.03883,
          1.37405,
          1.54558,
          1.0288,
          1.71826,
          1.21809,
          1.25794,
          1.88168,
          1.55218,
          1.15447,
          1.62694,
          1.77463,
          1.60702,
          1.07021
         ],
         "y": [
          -0.537906,
          -0.538479,
          -0.573419,
          -0.425715,
          -0.599965,
          -0.593316,
          -0.485421,
          -0.595051,
          -0.591957,
          -0.437331,
          -0.544677,
          -0.363566,
          -0.408987,
          -0.485485,
          -0.480416,
          -0.485034,
          -0.450872,
          -0.535946,
          -0.541912,
          -0.432579,
          -0.488225,
          -0.298924,
          -0.586063,
          -0.504644,
          -0.454483,
          -0.463942,
          -0.599663,
          -0.564592,
          -0.361832,
          -0.441797,
          -0.495106,
          -0.523453,
          -0.56819,
          -0.594875,
          -0.47075,
          -0.495104,
          -0.595812,
          -0.545881,
          -0.592446,
          -0.509322,
          -0.553647,
          -0.41486,
          -0.357362,
          -0.575657,
          -0.380741,
          -0.549915,
          -0.522251,
          -0.567055,
          -0.590458,
          -0.521254
         ],
         "z": [
          0.571359,
          0.552388,
          0.582424,
          0.502455,
          0.349096,
          0.664873,
          0.515192,
          0.66631,
          0.631528,
          0.440743,
          0.437769,
          0.515941,
          0.490763,
          0.584234,
          0.54067,
          0.53568,
          0.529695,
          0.593233,
          0.53658,
          0.471996,
          0.564074,
          0.415684,
          0.657525,
          0.635065,
          0.538403,
          0.509115,
          0.540229,
          0.487716,
          0.459746,
          0.552103,
          0.242222,
          0.484643,
          0.635549,
          0.585278,
          0.377388,
          0.572192,
          0.633521,
          0.648993,
          0.642617,
          0.493241,
          0.61241,
          0.461894,
          0.492654,
          0.629261,
          0.320327,
          0.640517,
          0.372293,
          0.395451,
          0.357394,
          0.621182
         ]
        }
       ],
       "layout": {
        "margin": {
         "b": 40,
         "l": 0,
         "r": 0,
         "t": 50
        },
        "scene": {
         "aspectmode": "cube",
         "xaxis": {
          "title": {
           "text": "QQ"
          }
         },
         "yaxis": {
          "title": {
           "text": "t"
          }
         },
         "zaxis": {
          "title": {
           "text": "x_b"
          }
         }
        },
        "template": {
         "data": {
          "bar": [
           {
            "error_x": {
             "color": "rgb(51,51,51)"
            },
            "error_y": {
             "color": "rgb(51,51,51)"
            },
            "marker": {
             "line": {
              "color": "rgb(237,237,237)",
              "width": 0.5
             },
             "pattern": {
              "fillmode": "overlay",
              "size": 10,
              "solidity": 0.2
             }
            },
            "type": "bar"
           }
          ],
          "barpolar": [
           {
            "marker": {
             "line": {
              "color": "rgb(237,237,237)",
              "width": 0.5
             },
             "pattern": {
              "fillmode": "overlay",
              "size": 10,
              "solidity": 0.2
             }
            },
            "type": "barpolar"
           }
          ],
          "carpet": [
           {
            "aaxis": {
             "endlinecolor": "rgb(51,51,51)",
             "gridcolor": "white",
             "linecolor": "white",
             "minorgridcolor": "white",
             "startlinecolor": "rgb(51,51,51)"
            },
            "baxis": {
             "endlinecolor": "rgb(51,51,51)",
             "gridcolor": "white",
             "linecolor": "white",
             "minorgridcolor": "white",
             "startlinecolor": "rgb(51,51,51)"
            },
            "type": "carpet"
           }
          ],
          "choropleth": [
           {
            "colorbar": {
             "outlinewidth": 0,
             "tickcolor": "rgb(237,237,237)",
             "ticklen": 6,
             "ticks": "inside"
            },
            "type": "choropleth"
           }
          ],
          "contour": [
           {
            "colorbar": {
             "outlinewidth": 0,
             "tickcolor": "rgb(237,237,237)",
             "ticklen": 6,
             "ticks": "inside"
            },
            "colorscale": [
             [
              0,
              "rgb(20,44,66)"
             ],
             [
              1,
              "rgb(90,179,244)"
             ]
            ],
            "type": "contour"
           }
          ],
          "contourcarpet": [
           {
            "colorbar": {
             "outlinewidth": 0,
             "tickcolor": "rgb(237,237,237)",
             "ticklen": 6,
             "ticks": "inside"
            },
            "type": "contourcarpet"
           }
          ],
          "heatmap": [
           {
            "colorbar": {
             "outlinewidth": 0,
             "tickcolor": "rgb(237,237,237)",
             "ticklen": 6,
             "ticks": "inside"
            },
            "colorscale": [
             [
              0,
              "rgb(20,44,66)"
             ],
             [
              1,
              "rgb(90,179,244)"
             ]
            ],
            "type": "heatmap"
           }
          ],
          "heatmapgl": [
           {
            "colorbar": {
             "outlinewidth": 0,
             "tickcolor": "rgb(237,237,237)",
             "ticklen": 6,
             "ticks": "inside"
            },
            "colorscale": [
             [
              0,
              "rgb(20,44,66)"
             ],
             [
              1,
              "rgb(90,179,244)"
             ]
            ],
            "type": "heatmapgl"
           }
          ],
          "histogram": [
           {
            "marker": {
             "pattern": {
              "fillmode": "overlay",
              "size": 10,
              "solidity": 0.2
             }
            },
            "type": "histogram"
           }
          ],
          "histogram2d": [
           {
            "colorbar": {
             "outlinewidth": 0,
             "tickcolor": "rgb(237,237,237)",
             "ticklen": 6,
             "ticks": "inside"
            },
            "colorscale": [
             [
              0,
              "rgb(20,44,66)"
             ],
             [
              1,
              "rgb(90,179,244)"
             ]
            ],
            "type": "histogram2d"
           }
          ],
          "histogram2dcontour": [
           {
            "colorbar": {
             "outlinewidth": 0,
             "tickcolor": "rgb(237,237,237)",
             "ticklen": 6,
             "ticks": "inside"
            },
            "colorscale": [
             [
              0,
              "rgb(20,44,66)"
             ],
             [
              1,
              "rgb(90,179,244)"
             ]
            ],
            "type": "histogram2dcontour"
           }
          ],
          "mesh3d": [
           {
            "colorbar": {
             "outlinewidth": 0,
             "tickcolor": "rgb(237,237,237)",
             "ticklen": 6,
             "ticks": "inside"
            },
            "type": "mesh3d"
           }
          ],
          "parcoords": [
           {
            "line": {
             "colorbar": {
              "outlinewidth": 0,
              "tickcolor": "rgb(237,237,237)",
              "ticklen": 6,
              "ticks": "inside"
             }
            },
            "type": "parcoords"
           }
          ],
          "pie": [
           {
            "automargin": true,
            "type": "pie"
           }
          ],
          "scatter": [
           {
            "fillpattern": {
             "fillmode": "overlay",
             "size": 10,
             "solidity": 0.2
            },
            "type": "scatter"
           }
          ],
          "scatter3d": [
           {
            "line": {
             "colorbar": {
              "outlinewidth": 0,
              "tickcolor": "rgb(237,237,237)",
              "ticklen": 6,
              "ticks": "inside"
             }
            },
            "marker": {
             "colorbar": {
              "outlinewidth": 0,
              "tickcolor": "rgb(237,237,237)",
              "ticklen": 6,
              "ticks": "inside"
             }
            },
            "type": "scatter3d"
           }
          ],
          "scattercarpet": [
           {
            "marker": {
             "colorbar": {
              "outlinewidth": 0,
              "tickcolor": "rgb(237,237,237)",
              "ticklen": 6,
              "ticks": "inside"
             }
            },
            "type": "scattercarpet"
           }
          ],
          "scattergeo": [
           {
            "marker": {
             "colorbar": {
              "outlinewidth": 0,
              "tickcolor": "rgb(237,237,237)",
              "ticklen": 6,
              "ticks": "inside"
             }
            },
            "type": "scattergeo"
           }
          ],
          "scattergl": [
           {
            "marker": {
             "colorbar": {
              "outlinewidth": 0,
              "tickcolor": "rgb(237,237,237)",
              "ticklen": 6,
              "ticks": "inside"
             }
            },
            "type": "scattergl"
           }
          ],
          "scattermapbox": [
           {
            "marker": {
             "colorbar": {
              "outlinewidth": 0,
              "tickcolor": "rgb(237,237,237)",
              "ticklen": 6,
              "ticks": "inside"
             }
            },
            "type": "scattermapbox"
           }
          ],
          "scatterpolar": [
           {
            "marker": {
             "colorbar": {
              "outlinewidth": 0,
              "tickcolor": "rgb(237,237,237)",
              "ticklen": 6,
              "ticks": "inside"
             }
            },
            "type": "scatterpolar"
           }
          ],
          "scatterpolargl": [
           {
            "marker": {
             "colorbar": {
              "outlinewidth": 0,
              "tickcolor": "rgb(237,237,237)",
              "ticklen": 6,
              "ticks": "inside"
             }
            },
            "type": "scatterpolargl"
           }
          ],
          "scatterternary": [
           {
            "marker": {
             "colorbar": {
              "outlinewidth": 0,
              "tickcolor": "rgb(237,237,237)",
              "ticklen": 6,
              "ticks": "inside"
             }
            },
            "type": "scatterternary"
           }
          ],
          "surface": [
           {
            "colorbar": {
             "outlinewidth": 0,
             "tickcolor": "rgb(237,237,237)",
             "ticklen": 6,
             "ticks": "inside"
            },
            "colorscale": [
             [
              0,
              "rgb(20,44,66)"
             ],
             [
              1,
              "rgb(90,179,244)"
             ]
            ],
            "type": "surface"
           }
          ],
          "table": [
           {
            "cells": {
             "fill": {
              "color": "rgb(237,237,237)"
             },
             "line": {
              "color": "white"
             }
            },
            "header": {
             "fill": {
              "color": "rgb(217,217,217)"
             },
             "line": {
              "color": "white"
             }
            },
            "type": "table"
           }
          ]
         },
         "layout": {
          "annotationdefaults": {
           "arrowhead": 0,
           "arrowwidth": 1
          },
          "autotypenumbers": "strict",
          "coloraxis": {
           "colorbar": {
            "outlinewidth": 0,
            "tickcolor": "rgb(237,237,237)",
            "ticklen": 6,
            "ticks": "inside"
           }
          },
          "colorscale": {
           "sequential": [
            [
             0,
             "rgb(20,44,66)"
            ],
            [
             1,
             "rgb(90,179,244)"
            ]
           ],
           "sequentialminus": [
            [
             0,
             "rgb(20,44,66)"
            ],
            [
             1,
             "rgb(90,179,244)"
            ]
           ]
          },
          "colorway": [
           "#F8766D",
           "#A3A500",
           "#00BF7D",
           "#00B0F6",
           "#E76BF3"
          ],
          "font": {
           "color": "rgb(51,51,51)"
          },
          "geo": {
           "bgcolor": "white",
           "lakecolor": "white",
           "landcolor": "rgb(237,237,237)",
           "showlakes": true,
           "showland": true,
           "subunitcolor": "white"
          },
          "hoverlabel": {
           "align": "left"
          },
          "hovermode": "closest",
          "paper_bgcolor": "white",
          "plot_bgcolor": "rgb(237,237,237)",
          "polar": {
           "angularaxis": {
            "gridcolor": "white",
            "linecolor": "white",
            "showgrid": true,
            "tickcolor": "rgb(51,51,51)",
            "ticks": "outside"
           },
           "bgcolor": "rgb(237,237,237)",
           "radialaxis": {
            "gridcolor": "white",
            "linecolor": "white",
            "showgrid": true,
            "tickcolor": "rgb(51,51,51)",
            "ticks": "outside"
           }
          },
          "scene": {
           "xaxis": {
            "backgroundcolor": "rgb(237,237,237)",
            "gridcolor": "white",
            "gridwidth": 2,
            "linecolor": "white",
            "showbackground": true,
            "showgrid": true,
            "tickcolor": "rgb(51,51,51)",
            "ticks": "outside",
            "zerolinecolor": "white"
           },
           "yaxis": {
            "backgroundcolor": "rgb(237,237,237)",
            "gridcolor": "white",
            "gridwidth": 2,
            "linecolor": "white",
            "showbackground": true,
            "showgrid": true,
            "tickcolor": "rgb(51,51,51)",
            "ticks": "outside",
            "zerolinecolor": "white"
           },
           "zaxis": {
            "backgroundcolor": "rgb(237,237,237)",
            "gridcolor": "white",
            "gridwidth": 2,
            "linecolor": "white",
            "showbackground": true,
            "showgrid": true,
            "tickcolor": "rgb(51,51,51)",
            "ticks": "outside",
            "zerolinecolor": "white"
           }
          },
          "shapedefaults": {
           "fillcolor": "black",
           "line": {
            "width": 0
           },
           "opacity": 0.3
          },
          "ternary": {
           "aaxis": {
            "gridcolor": "white",
            "linecolor": "white",
            "showgrid": true,
            "tickcolor": "rgb(51,51,51)",
            "ticks": "outside"
           },
           "baxis": {
            "gridcolor": "white",
            "linecolor": "white",
            "showgrid": true,
            "tickcolor": "rgb(51,51,51)",
            "ticks": "outside"
           },
           "bgcolor": "rgb(237,237,237)",
           "caxis": {
            "gridcolor": "white",
            "linecolor": "white",
            "showgrid": true,
            "tickcolor": "rgb(51,51,51)",
            "ticks": "outside"
           }
          },
          "xaxis": {
           "automargin": true,
           "gridcolor": "white",
           "linecolor": "white",
           "showgrid": true,
           "tickcolor": "rgb(51,51,51)",
           "ticks": "outside",
           "title": {
            "standoff": 15
           },
           "zerolinecolor": "white"
          },
          "yaxis": {
           "automargin": true,
           "gridcolor": "white",
           "linecolor": "white",
           "showgrid": true,
           "tickcolor": "rgb(51,51,51)",
           "ticks": "outside",
           "title": {
            "standoff": 15
           },
           "zerolinecolor": "white"
          }
         }
        },
        "title": {
         "text": "Prediction Accuracy on ReH with 30.0% Error on F"
        }
       }
      }
     },
     "metadata": {},
     "output_type": "display_data"
    }
   ],
   "source": [
    "plotInteractive(0.3, 50, 'ReH')"
   ]
  },
  {
   "cell_type": "code",
   "execution_count": 3,
   "metadata": {},
   "outputs": [],
   "source": [
    "errors = [0.0, 0.01, 0.025, 0.05, 0.1, 0.15, 0.25, 0.30]\n",
    "for err in errors: \n",
    "    plotInteractive(err, 403, 'ReH', show = False)\n",
    "    plotInteractive(err, 403, 'ReE', show = False)\n",
    "    plotInteractive(err, 403, 'ReHtilde', show = False)"
   ]
  }
 ],
 "metadata": {
  "interpreter": {
   "hash": "6e1bb2b41418f2207299778c60017006077670a001a3140fda363cd1a2aeb43a"
  },
  "kernelspec": {
   "display_name": "Python 3.10.2 ('.venv': venv)",
   "language": "python",
   "name": "python3"
  },
  "language_info": {
   "codemirror_mode": {
    "name": "ipython",
    "version": 3
   },
   "file_extension": ".py",
   "mimetype": "text/x-python",
   "name": "python",
   "nbconvert_exporter": "python",
   "pygments_lexer": "ipython3",
   "version": "3.10.2"
  },
  "orig_nbformat": 4
 },
 "nbformat": 4,
 "nbformat_minor": 2
}
