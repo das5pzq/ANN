{
 "cells": [
  {
   "cell_type": "code",
   "execution_count": null,
   "metadata": {},
   "outputs": [],
   "source": [
    "from BHDVCS_tf import DvcsData\n",
    "import pandas as pd\n",
    "import numpy as np\n",
    "import plotly.graph_objects as go\n",
    "import plotly.express as px\n",
    "\n",
    "df = pd.read_csv(\"dvcs_bkm_xs_June2021_4pars.csv\")\n",
    "errValues = [0.0, 0.01, 0.025, 0.05, 0.1, 0.15, 0.25, 0.30]\n",
    "\n",
    "def getReals(setNum, numPhi = 45):\n",
    "    df = pd.read_csv(\"dvcs_bkm_xs_June2021_4pars.csv\")\n",
    "    return df.loc[numPhi * setNum, 'gReH': 'gReHTilde']\n",
    "\n",
    "def getColorMappingValues(amountofSets):\n",
    "    ReHMean = []\n",
    "    ReEMean = []\n",
    "    ReHtildeMean = []\n",
    "    for set in range(amountofSets):\n",
    "        for errF in errValues:\n",
    "            data = pd.read_csv(\"Predictions\\Method2-\"+ str(set) + \"-\" + str(errF) +  \".csv\")\n",
    "            \n",
    "            # NOTE we take max(mean, -1) because if data is more than 100% error it should just cap in terms of heatmapping\n",
    "            #Inverted because currently smaller values are red and larger values are green\n",
    "            #Want to make opposite (smaller %error-values = green and larger %error-values = red) therefore we multiply by -1\n",
    "            ReHMean.append(100 * max(-abs(np.mean(data.ReH)), -1))\n",
    "            ReEMean.append(100 * max(-abs(np.mean(data.ReE)), -1))\n",
    "            ReHtildeMean.append(100 * max(-abs(np.mean(data.ReHtilde)), -1))\n",
    "\n",
    "    return ReHMean, ReEMean, ReHtildeMean  \n",
    "\n",
    "def getSizes(amountofSets):\n",
    "    ReHMean = []\n",
    "    ReEMean = []\n",
    "    ReHtildeMean = []\n",
    "    for set in range(amountofSets):\n",
    "        for errF in errValues: \n",
    "            data = pd.read_csv(\"Predictions\\Method2-\"+ str(set) + \"-\" + str(errF) +  \".csv\")\n",
    "            \n",
    "            ReHMean.append(10 + pow(np.std(data.ReH), 0.75))\n",
    "            ReEMean.append(10 + pow(np.std(data.ReE), 0.75))\n",
    "            ReHtildeMean.append(10 + pow(np.std(data.ReHtilde), 0.75))\n",
    "\n",
    "    return ReHMean, ReEMean, ReHtildeMean\n",
    "\n",
    "#Returns lists that contain the kinematics for each index\n",
    "def getkinematics(numSets):\n",
    "    errs = []\n",
    "    xb = []\n",
    "    t = []\n",
    "    for i in range(numSets):\n",
    "        #gets a set's kinematics\n",
    "        kvar, Q, x, ts = df.loc[45 * i, 'k': 't']\n",
    "        \n",
    "        #adds set's kinematics to running list\n",
    "        errs.extend(errValues)\n",
    "        xb.extend([x] * len(errValues))\n",
    "        t.extend([ts] * len(errValues))\n",
    "    \n",
    "    return xb, t, errs"
   ]
  }
 ],
 "metadata": {
  "kernelspec": {
   "display_name": "Python 3.10.2 ('.venv': venv)",
   "language": "python",
   "name": "python3"
  },
  "language_info": {
   "name": "python",
   "version": "3.10.2"
  },
  "orig_nbformat": 4,
  "vscode": {
   "interpreter": {
    "hash": "6e1bb2b41418f2207299778c60017006077670a001a3140fda363cd1a2aeb43a"
   }
  }
 },
 "nbformat": 4,
 "nbformat_minor": 2
}
