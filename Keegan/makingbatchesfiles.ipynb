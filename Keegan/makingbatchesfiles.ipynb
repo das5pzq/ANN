{
  "cells": [
    {
      "cell_type": "code",
      "execution_count": null,
      "id": "a5756d11",
      "metadata": {
        "colab": {
          "base_uri": "https://localhost:8080/",
          "height": 53
        },
        "id": "a5756d11",
        "outputId": "3146c797-5f13-4d7c-a7b7-9438b3c098ed"
      },
      "outputs": [
        {
          "output_type": "execute_result",
          "data": {
            "text/plain": [
              "'\\x0cor j in range(len(ddf.iloc[:,0])):\\n  fname = \\'test\\'+str(j)+\\'.ipynb\\'\\n  os.rename(r\"/content/fname\",r\"/content/foldercff/fname\")'"
            ],
            "application/vnd.google.colaboratory.intrinsic+json": {
              "type": "string"
            }
          },
          "metadata": {},
          "execution_count": 45
        }
      ],
      "source": [
        "import nbformat as nbf\n",
        "import pandas as pd\n",
        "import os\n",
        "\n",
        "#note that the /content/foldercff must be replaced with where you want the folder with the cff to go. It then needs to be copied into the os.chir\n",
        "#also /content/Book 8.csv is the location of the csv file that reads the data.\n",
        "#later the /content/PseudoKM15_New_FormFactor.csv is the file for the training data.\n",
        "\n",
        "os.makedirs(r\"/content/foldercff\")\n",
        "nb = nbf.v4.new_notebook()\n",
        "ddf=pd.read_csv(r\"/content/Book 8.csv\",header=0,\n",
        "                usecols=[\"# of layers\", \"nodes first layer\", \"decreasing nodes\",\n",
        "                         \"activation function\",\"initial learning rate\",\"decay rate\"])\n",
        "os.chdir(r\"/content/foldercff\")\n",
        "#note to call funcitons use ddf.iloc[row][column] with normal python index at 0\n",
        "#to have varibles must use {} around the varibels.\n",
        "#note that if the code has {} in it must put {} around it to make work ie {simga:sigma} must be {{simga:sigma}}\n",
        "\n",
        "for j in range(len(ddf.iloc[:,0])):\n",
        "    code = f\"\"\"import numpy as np\n",
        "import pandas as pd\n",
        "# from BHDVCS_tf import BHDVCStf\n",
        "from BHDVCS_tf import TotalFLayer\n",
        "from BHDVCS_tf import DvcsData\n",
        "from BHDVCS_tf import cffs_from_globalModel\n",
        "from BHDVCS_tf import F2VsPhi as F2VsPhitf\n",
        "import tensorflow as tf\n",
        "\n",
        "import matplotlib\n",
        "import matplotlib.pyplot as plt\n",
        "\n",
        "import sys\n",
        "from scipy.stats import chisquare\n",
        "\n",
        "df = pd.read_csv(r\"/content/PseudoKM15_New_FormFactor.csv\", dtype=np.float64)\n",
        "df = df.rename(columns={{\"sigmaF\": \"errF\"}})\n",
        "\n",
        "data = DvcsData(df)\n",
        "\n",
        "initializer = tf.keras.initializers.HeNormal()\n",
        "\n",
        "kinematics = tf.keras.Input(shape=(4))\n",
        "\n",
        "k=0\n",
        "while k <{ddf.iloc[j,0]}:\n",
        "  if k==0:\n",
        "      x0=tf.keras.layers.Dense({ddf.iloc[j][1]}, activation=\"{ddf.iloc[j][3]}\", kernel_initializer=initializer)(kinematics)\n",
        "  else:\n",
        "      xo=x0\n",
        "      x0=tf.keras.layers.Dense({ddf.iloc[j][1]}-k*{ddf.iloc[j][2]}, activation=\"{ddf.iloc[j][3]}\", kernel_initializer=initializer)(xo)\n",
        "  k=k+1\n",
        "outputs = tf.keras.layers.Dense(4, activation=\"linear\", kernel_initializer=initializer)(x0)\n",
        "noncffInputs = tf.keras.Input(shape=(7))\n",
        "#### phi, kin1, kin2, kin3, kin4, F1, F2 ####\n",
        "total_FInputs = tf.keras.layers.concatenate([noncffInputs,outputs])\n",
        "TotalF = TotalFLayer()(total_FInputs)\n",
        "\n",
        "tfModel = tf.keras.Model(inputs=[kinematics, noncffInputs], outputs = TotalF, name=\"tfmodel\")\n",
        "early_stopping_callback = tf.keras.callbacks.EarlyStopping(monitor='loss', min_delta=0.0000005, patience=100)\n",
        "\n",
        "lr = tf.keras.optimizers.schedules.ExponentialDecay(\n",
        "    {ddf.iloc[j][4]}, df.shape[0]/1, {ddf.iloc[j][5]}, staircase=False, name=None\n",
        ")\n",
        "\n",
        "\n",
        "tfModel.compile(\n",
        "    optimizer = tf.keras.optimizers.Adam(lr),\n",
        "    loss = tf.keras.losses.MeanSquaredError()\n",
        ")\n",
        "\n",
        "Wsave = tfModel.get_weights()\n",
        "\n",
        "#!!High-overfitting from batch_size 1, 2 100 node hidden layers no validation data, huge number of epochs!!#\n",
        "# Over-fitting to F will likely not reflect well in CFF predictions\n",
        "\n",
        "#Number of kinematic sets\n",
        "by_set = []\n",
        "for i in range(15):\n",
        "  setI = data.getSet(i, itemsInSet=45)\n",
        "\n",
        "  tfModel.set_weights(Wsave)\n",
        "\n",
        "  tfModel.fit([setI.Kinematics, setI.XnoCFF], setI.sampleY(), # one replica of samples from F vals\n",
        "                        epochs=1001, verbose=0, batch_size=16, callbacks=[early_stopping_callback])\n",
        "\n",
        "  cffs = cffs_from_globalModel(tfModel, setI.Kinematics, numHL=2)\n",
        "\n",
        "  by_set.append(cffs)\n",
        "\n",
        "df = pd.DataFrame(by_set)\n",
        "\n",
        "if len(sys.argv) > 1:\n",
        "    df.to_csv('bySetCFFs' + sys.argv[1] + str({j})+'.csv')\n",
        "  else:\n",
        "    df.to_csv('bySetCFFs' + str({j}) +'.csv')\n",
        "    \"\"\"\n",
        "    nb['cells'] = [nbf.v4.new_code_cell(code)]\n",
        "    fname = 'test'+str(j)+'.ipynb'\n",
        "    with open(fname, 'w') as f:\n",
        "      nbf.write(nb, f)\n"
      ]
    },
    {
      "cell_type": "code",
      "source": [],
      "metadata": {
        "id": "5yvyDKw5lfu7"
      },
      "id": "5yvyDKw5lfu7",
      "execution_count": null,
      "outputs": []
    }
  ],
  "metadata": {
    "kernelspec": {
      "display_name": "Python 3 (ipykernel)",
      "language": "python",
      "name": "python3"
    },
    "language_info": {
      "codemirror_mode": {
        "name": "ipython",
        "version": 3
      },
      "file_extension": ".py",
      "mimetype": "text/x-python",
      "name": "python",
      "nbconvert_exporter": "python",
      "pygments_lexer": "ipython3",
      "version": "3.10.9"
    },
    "colab": {
      "provenance": []
    }
  },
  "nbformat": 4,
  "nbformat_minor": 5
}